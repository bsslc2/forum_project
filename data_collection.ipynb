{
 "cells": [
  {
   "cell_type": "code",
   "execution_count": 1,
   "metadata": {
    "collapsed": true
   },
   "outputs": [],
   "source": [
    "import requests as r\n",
    "from bs4 import BeautifulSoup as bs\n",
    "import re\n",
    "import json\n",
    "from datetime import datetime\n",
    "from concurrent.futures import ThreadPoolExecutor, wait\n",
    "import concurrent.futures\n",
    "import jieba\n",
    "import pandas as pd"
   ]
  },
  {
   "cell_type": "code",
   "execution_count": 2,
   "metadata": {
    "collapsed": true
   },
   "outputs": [],
   "source": [
    "def stop_watch():\n",
    "    global START  \n",
    "    END = datetime.now()\n",
    "    timeSpent = str(END - START) \n",
    "\n",
    "    START = END\n",
    "    return timeSpent"
   ]
  },
  {
   "cell_type": "code",
   "execution_count": 19,
   "metadata": {
    "collapsed": true
   },
   "outputs": [],
   "source": [
    "def get_urls(page):\n",
    "    urls_lists = []\n",
    "    URL = \"https://www.wetalk.tw/forum.php?mod=forumdisplay&fid=2&page={}\"    \n",
    "    resp = r.get(URL.format(page))\n",
    "        \n",
    "    soup = bs(resp.text, \"html5lib\")\n",
    "    for url in range(2,len(soup.select('tbody > tr > th > a.xst'))):        \n",
    "        urls = soup.select('tbody > tr > th > a.xst')[url]['href']\n",
    "        urls_lists.append(urls)\n",
    "    get_forum_contexts(urls_lists)"
   ]
  },
  {
   "cell_type": "code",
   "execution_count": 20,
   "metadata": {
    "collapsed": true
   },
   "outputs": [],
   "source": [
    "def get_forum_contexts(urls_lists):\n",
    "    cont_comm = []   \n",
    "    for x in range(0,len(urls_lists)):            \n",
    "        resp_c = r.get(urls_lists[x])\n",
    "        soup_c = bs(resp_c.text, 'html5lib')          \n",
    "        news = {}\n",
    "        news[\"content\"]  = soup_c.select(\"td.t_f > article\")[0].text.replace('\\n','').replace('發表','').replace('文字轉載自 新公民議會','').replace('上傳下載附件','').replace('姬小編※※ 如果發現您的留言太長，不妨考慮投稿新公民議會，如獲刊登將有稿費喔!','').replace('圖片來源','').replace('胡嚴編輯','').strip()\n",
    "        news[\"reply\"]= soup_c.select(\"span.xg1 > span.xi1\")[1].text.replace('\\n','')\n",
    "        cont_comm.append(news)\n",
    "        save_forum_contexts(cont_comm)"
   ]
  },
  {
   "cell_type": "code",
   "execution_count": 21,
   "metadata": {
    "collapsed": true
   },
   "outputs": [],
   "source": [
    "def save_forum_contexts(cont_comm):\n",
    "    with open(\"./2018test1.json\", 'a',encoding ='UTF-8') as f:\n",
    "        f.write(json.dumps(cont_comm))"
   ]
  },
  {
   "cell_type": "code",
   "execution_count": 22,
   "metadata": {
    "collapsed": true
   },
   "outputs": [],
   "source": [
    "def main(THREAD_NUM):\n",
    "    with concurrent.futures.ThreadPoolExecutor(THREAD_NUM) as executor:\n",
    "        executor.map(get_urls, range(1,312))\n",
    "        \n",
    "if __name__==\"__main__\":\n",
    "    START = datetime.now()\n",
    "    main(10)\n",
    "    print('main =' + stop_watch())"
   ]
  },
  {
   "cell_type": "code",
   "execution_count": null,
   "metadata": {},
   "outputs": [],
   "source": []
  },
  {
   "cell_type": "code",
   "execution_count": 4,
   "metadata": {
    "collapsed": true
   },
   "outputs": [],
   "source": [
    "import pymongo"
   ]
  },
  {
   "cell_type": "code",
   "execution_count": 7,
   "metadata": {
    "collapsed": true
   },
   "outputs": [],
   "source": [
    "from pymongo import MongoClient"
   ]
  },
  {
   "cell_type": "code",
   "execution_count": 18,
   "metadata": {
    "collapsed": true
   },
   "outputs": [],
   "source": [
    "connection = pymongo.MongoClient('mongodb://localhost:27017/')"
   ]
  },
  {
   "cell_type": "code",
   "execution_count": 19,
   "metadata": {
    "collapsed": true
   },
   "outputs": [],
   "source": [
    "forum = connection.forumdb"
   ]
  },
  {
   "cell_type": "code",
   "execution_count": 34,
   "metadata": {
    "collapsed": true
   },
   "outputs": [],
   "source": [
    "forumcc = forum.forumcollection"
   ]
  },
  {
   "cell_type": "code",
   "execution_count": null,
   "metadata": {
    "scrolled": false
   },
   "outputs": [],
   "source": [
    "forumcc.insert(cont_comm)"
   ]
  },
  {
   "cell_type": "code",
   "execution_count": 33,
   "metadata": {},
   "outputs": [
    {
     "data": {
      "text/plain": [
       "<pymongo.cursor.Cursor at 0x1b6626a6f60>"
      ]
     },
     "execution_count": 33,
     "metadata": {},
     "output_type": "execute_result"
    }
   ],
   "source": [
    "db.forumcc.find()"
   ]
  },
  {
   "cell_type": "code",
   "execution_count": null,
   "metadata": {
    "collapsed": true
   },
   "outputs": [],
   "source": []
  }
 ],
 "metadata": {
  "kernelspec": {
   "display_name": "Python 3",
   "language": "python",
   "name": "python3"
  },
  "language_info": {
   "codemirror_mode": {
    "name": "ipython",
    "version": 3
   },
   "file_extension": ".py",
   "mimetype": "text/x-python",
   "name": "python",
   "nbconvert_exporter": "python",
   "pygments_lexer": "ipython3",
   "version": "3.6.2"
  }
 },
 "nbformat": 4,
 "nbformat_minor": 2
}
